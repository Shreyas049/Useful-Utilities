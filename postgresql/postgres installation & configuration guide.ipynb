{
 "cells": [
  {
   "cell_type": "markdown",
   "id": "05387a9a",
   "metadata": {},
   "source": [
    "# **Installation & Setup**"
   ]
  },
  {
   "cell_type": "markdown",
   "id": "5776e7cb",
   "metadata": {},
   "source": [
    "## PostgreSQL"
   ]
  },
  {
   "cell_type": "markdown",
   "id": "dc9984c2",
   "metadata": {},
   "source": [
    "### *Installing PostgreSQL*"
   ]
  },
  {
   "cell_type": "markdown",
   "id": "33116a88",
   "metadata": {},
   "source": [
    "```bash\n",
    "\n",
    "# update system\n",
    "sudo apt update -y && sudo apt upgrade -y\n",
    "\n",
    "# install postgres using apt\n",
    "sudo apt install postgresql postgresql-contrib -y\n",
    "\n",
    "# verify installation\n",
    "sudo systemctl status postgresql\n",
    "\n",
    "# if postgres isn't running automatically, start it with\n",
    "sudo systemctl start postgresql\n",
    "sudo systemctl enable postgresql\n",
    "\n",
    "# enter shell\n",
    "sudo -u postgres psql   # command 'psql' runs as user 'postgres'\n",
    "```\n",
    "```sql\n",
    "\n",
    "    /* query: setup password for default user */\n",
    "    ALTER USER postgres WITH PASSWORD 'your_secure_password';\n",
    "\n",
    "    /*password setup as 'shreyas' for user 'postgres'*/\n",
    "```"
   ]
  },
  {
   "cell_type": "markdown",
   "id": "6e8fd828",
   "metadata": {},
   "source": [
    "### *Configuring PostgreSQL to Allow Remote Connections*"
   ]
  },
  {
   "cell_type": "markdown",
   "id": "04081bdf",
   "metadata": {},
   "source": [
    "1. Edit PostgreSQL configuration file:\n",
    "    ```bash\n",
    "    sudo nano /etc/postgresql/*/main/postgresql.conf\n",
    "    ```\n",
    "\n",
    "2. Find the line with listen_addresses and change it to:\n",
    "    ```bash\n",
    "    listen_addresses = '*'\n",
    "    ```\n",
    "\n",
    "3. Edit pg_hba.conf file to allow remote connections:\n",
    "    ```bash\n",
    "    sudo nano /etc/postgresql/*/main/pg_hba.conf\n",
    "    ```\n",
    "\n",
    "4. Add the following line to allow connections from any address:\n",
    "    ```bash\n",
    "    # IPv4 remote connections:\n",
    "    host    all             all             0.0.0.0/0               md5\n",
    "    # IPv6 remote connections:\n",
    "    host    all             all             ::/0                    md5\n",
    "    ```\n",
    "\n",
    "5. Restart PostgreSQL:\n",
    "    ```bash\n",
    "    sudo systemctl restart postgresql\n",
    "    ```\n",
    "\n",
    "```bash\n",
    "\n",
    "```\n",
    "\n",
    "```bash\n",
    "\n",
    "```"
   ]
  },
  {
   "cell_type": "markdown",
   "id": "28082597",
   "metadata": {},
   "source": [
    "## pgAdmin4"
   ]
  },
  {
   "cell_type": "markdown",
   "id": "4dbe8aa3",
   "metadata": {},
   "source": [
    "### *Installing*"
   ]
  },
  {
   "cell_type": "markdown",
   "id": "1d4a72ae",
   "metadata": {},
   "source": [
    "```bash\n",
    "# Setup the repository\n",
    "\n",
    "# Install the public key for the repository (if not done previously):\n",
    "curl -fsS https://www.pgadmin.org/static/packages_pgadmin_org.pub | sudo gpg --dearmor -o /usr/share/keyrings/packages-pgadmin-org.gpg\n",
    "\n",
    "# Create the repository configuration file:\n",
    "sudo sh -c 'echo \"deb [signed-by=/usr/share/keyrings/packages-pgadmin-org.gpg] https://ftp.postgresql.org/pub/pgadmin/pgadmin4/apt/$(lsb_release -cs) pgadmin4 main\" > /etc/apt/sources.list.d/pgadmin4.list && apt update'\n",
    "\n",
    "# Install pgAdmin\n",
    "\n",
    "# Install for both desktop and web modes:\n",
    "sudo apt install pgadmin4\n",
    "\n",
    "# Install for desktop mode only:\n",
    "sudo apt install pgadmin4-desktop\n",
    "\n",
    "# Install for web mode only: \n",
    "sudo apt install pgadmin4-web \n",
    "\n",
    "# Configure the webserver, if you installed pgadmin4-web:\n",
    "sudo /usr/pgadmin4/bin/setup-web.sh\n",
    "\n",
    "# referred from: https://www.pgadmin.org/download/pgadmin-4-apt/\n",
    "```\n",
    "\n",
    "If pgAdmin-Web is configured, you can use it at:  **http://127.0.0.1/pgadmin4** \\\n",
    "You have set it up on Ubuntu 22.04 with username: deshmukh.shreyas049@gmail.com & password: shreyas"
   ]
  },
  {
   "cell_type": "markdown",
   "id": "c0ed6b46",
   "metadata": {},
   "source": [
    "### *Connecting pgAdmin to PostgreSQL*"
   ]
  },
  {
   "cell_type": "markdown",
   "id": "205ffd5c",
   "metadata": {},
   "source": [
    "1. Open pgAdmin\n",
    "2. Right-click on \"Servers\" and select \"Create\" > \"Server...\"\n",
    "3. In the General tab, provide a name for your connection\n",
    "4. In the Connection tab, enter:\n",
    "    - Host: localhost (or your server IP)\n",
    "    - Port: 5432\n",
    "    - Maintenance database: postgres\n",
    "    - Username: postgres (or your user)\n",
    "    - Password: your_password\n",
    "\n",
    "5. Click \"Save\""
   ]
  }
 ],
 "metadata": {
  "language_info": {
   "name": "python"
  }
 },
 "nbformat": 4,
 "nbformat_minor": 5
}
